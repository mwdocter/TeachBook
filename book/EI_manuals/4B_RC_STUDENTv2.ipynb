{
 "cells": [
  {
   "cell_type": "code",
   "execution_count": null,
   "metadata": {},
   "outputs": [],
   "source": [
    "%python\n",
    "from IPython.core.display import HTML\n",
    "def set_width(width):\n",
    "    display(HTML(f\"\"\"<style>  \n",
    "            .container {{ width:{width}% !important; \n",
    "                            min-width:800px !important; margin: 0 auto}} \n",
    "            .jp-Cell {{ width:{width}% !important; \n",
    "                            min-width:800px !important; margin: 0 auto}} </style>\"\"\"))\n",
    "# Set container width to X% of the fullscreen \n",
    "set_width(50)"
   ]
  },
  {
   "cell_type": "markdown",
   "metadata": {},
   "source": [
  "# 4B: RC circuit with PicoPi \n",
    "\n",
    "> <font color='blue'>Learning goal:</font> Build the RC circuit and determine the time constant\n",
    "\n",
    "Structure of an experiment:\n",
    "- Anticipate + Simulate (10+10+10): per person. This is homework and should be finished **before** you start your 4 hours practicum session\n",
    "- Implement + Investigate (30+10): with your partner(group of 2)\n",
    "- Compare + Conclude (5 min): with a group of 4(per table)\n"
   ]
  },
  {
   "cell_type": "markdown",
   "metadata": {
    "kernel": "SoS",
    "lines_to_next_cell": 2
   },
   "source": [
    "* Extra information or hints is given in boxes denoted by: <font size=4>ℹ️</font>\n",
    "* Help in fixing problems is given in boxed denoted by: <font size=4>🔥</font>\n",
    "\n",
    "\n",
    "Materials used:\n",
    "- Alpaca\n",
    "- 22kΩ resistor\n",
    "- 220 nF capacitor (big orange)\n"
   ]
  },
  {
   "cell_type": "markdown",
   "metadata": {},
   "source": [
    "## BACKGROUND: Alpaca\n",
    "> <font color='grey'>⏳ Estimated time: 10 min</font>\n",
    "\n",
    "Below are two videos that you have already seen in 3A. Watch them if you want to review the topic. \n",
   "* https://www.youtube.com/watch?v=ZwetQNcP0c8\n",
   "* https://www.youtube.com/watch?v=jDB2d8zPK9w\n",
    "\n",
    "> <font size=6>ℹ️</font>\n",
    ">\n",
    "> <font color='00a6ed'> \n",
    ">Notice that in Anticipate there is a different RC filter used. "
   ]
  },
  {
   "cell_type": "markdown",
   "metadata": {},
   "source": [
    "## ANTICIPATE: RC circuit 3dB point\n",
    "> <font color='grey'>⏳ Estimated time: 10 min</font>\n",
    "\n",
    "<img src=\"https://gitlab.tudelft.nl/mwdocter/nb2214-images/-/raw/main/PicoPI/picopi4_4_RC.jpg\" width=\"500\"/>\n",
    " \n",
    "For the circuit above:\n",
    "* Derive the type of filter\n",
    "* Calculate the cut-off frequency and time constant \n"
   ]
  },
  {
   "cell_type": "code",
   "execution_count": null,
   "metadata": {},
   "outputs": [],
   "source": [
    "### TO DO=\"your answer, type of filter, cut-off frequency and time constant\"\n",
    "\n"
   ]
  },
  {
   "cell_type": "markdown",
   "metadata": {},
   "source": [
    "## SIMULATE: RC circuit 3dB point \n",
    "> <font color='grey'>⏳ Estimated time: 10 min</font>\n",
    "\n",
    "You can download the file called \"4_RC_CR_RCCR_Simulate\" which should contain an RC circuit that looks like this: \n",
    "\n",
    "\n",
    "<img src=\"https://gitlab.tudelft.nl/mwdocter/nb2214-images/-/raw/main/LTS/4B_RC_Simulate_Image.png\" width=\"500\"/>\n",
    "\n",
    "\n",
    "You can run this simulation and by right-clicking on the voltage source you can see that you are performing an AC Analysis. This varies the frequency between 1kHz-10kHz such that you can plot Vout to find the -3dB point. \n",
    "\n",
    "> <font size=6>ℹ️</font>\n",
    ">\n",
    "> <font color='00a6ed'> \n",
    ">The graph plots dB against Hertz. You can determine the frequency by clicking on the name on top of the graph. Also remember that omega=2pi*f"
   ]
  },
  {
   "cell_type": "code",
   "execution_count": null,
   "metadata": {},
   "outputs": [],
   "source": [
    "### TO DO=\"What frequency does the -3dB point occur at\"\n",
    "\n"
   ]
  },
  {
   "cell_type": "markdown",
   "metadata": {},
   "source": [
    "You will implement the circuit, do measurements and analyze them. The assignment is broken into two steps: \n",
    "1. Implement the circuit and acquire data \n",
    "2. Investigate, by analyzing the acquired data\n",
    "\n",
    "## IMPLEMENT&INVESTIGATE 1: Step function\n",
    "> <font color='grey'>⏳ Estimated time: 30 min</font>\n",
    "\n",
    "You will build the RC circuit as below on your Alpaca (220nF is the big flat red capacitor): \n",
    "<img src=\"https://gitlab.tudelft.nl/mwdocter/nb2214-images/-/raw/main/PicoPI/picopi4_4_RC.jpg\" width=\"500\"/>\n",
    "\n",
    "\n",
    "    \n",
    "<font color='ff822d' size=6> 📝 <font> <font color='ff822d' size=4> **Todo**: <font>\n",
    "    \n",
    "* Connect the input of the RC circuit ($V_{in}$) to *Dout0*\n",
    "* Connect the input of the RC circuit ($V_{in}$) to *Ain0* on the multifunction connector (Pin 26)\n",
    "* Connect the output of the RC circuit ($V_{out}$) to *Ain1*\n",
    "* Connect the circuit the the ground, on the bottom of your Alpaca\n",
    "\n",
    "    \n",
    "<details>\n",
    "  <summary>Hints for implementation on the Alpaca</summary>\n",
    "  <img src=\"https://gitlab.tudelft.nl/mwdocter/nb2214-images/-/raw/main/PicoPI/4B_RC.jpg\" width=\"400\"/>\n",
    "</details>\n",
    "\n",
    "\n",
    "\n"
   ]
  },
  {
   "cell_type": "markdown",
   "metadata": {
    "kernel": "SoS"
   },
   "source": [
    "We will now use a script that: \n",
    "1. Takes 50 samples of the output signal, while the input signal generated by *Dout0* is 0V. \n",
    "2. After these 50 measurements, the voltage of *Dout0* is put to 3.3V, and 450 additional samples of the output are performed. \n",
    "3. For each measurement, the time at which the measurment was performed is recorded. \n",
    "4. The measured output versus the time is plotted.\n",
    "\n",
   "<details>\n",
    "<summary><font size=4>ℹ️</font> <b>Hints</b></summary>\n",
    "\n",
    "* To keep track of when each measurement was taken, consider the following approach: \n",
    "   - Record the time at the start of the measurement.\n",
    "   - Store the time at the start of your measurement in a variable `start`. \n",
    "   - Each time you measure, check the time again. Subtracting this time from the start time will yield the time elapsed since the start of the measurement!\n",
    "   - What do you think will be more reliable: an array that interpolates between the start time and the end time or the measured time?\n",
    "\n",
    ">* **How to do this in MicroPython:** As you are measuring using a delay of just 4 milliseconds, you might want to meausure these times in milliseconds too, rather than full seconds. To do this, use `time.ticks_ms`. This gives a \"time\" in milliseconds. Explore how this works in the code below. Equivalently, instead of `time.sleep`, you can also use `time.sleep_ms` to specify a time to sleep in milliseconds.\n",
   "</details>\n"   
]
  },
  {
   "cell_type": "markdown",
   "metadata": {},
   "source": [
    "First change the COM port in the code below and run the code of the next cell. "
   ]
  },
  {
   "cell_type": "code",
   "execution_count": null,
   "metadata": {},
   "outputs": [],
   "source": [
    "%serialconnect to --port=\"COM4\" "
   ]
  },
  {
   "cell_type": "code",
   "execution_count": null,
   "metadata": {},
   "outputs": [],
   "source": [
    "#### Explore measuring time points in milliseconds using this code ####\n",
    "# if you want to explore, change the code from if 0: to if 1:\n",
    "import time\n",
    "\n",
    "if 0:\n",
    "    start = time.ticks_ms() # Current time measured in milliseconds\n",
    "    tt = [] # List to store time points\n",
    "\n",
    "    for ii in range(600):\n",
    "        tt.append(time.ticks_ms() - start) # Store time\n",
    "        time.sleep_ms(4) # delay\n",
    "\n",
    "    print(tt[0:50]) #do you see multiples of 4 ms?\n"
   ]
  },
  {
   "cell_type": "markdown",
   "metadata": {
    "kernel": "SoS"
   },
   "source": [
    "The code is already given to you, you don't have to write it yourself. All you have to do is run it. If you want to get more indepth explanation of the code, feel free to watch the movie below.\n",
"* https://www.youtube.com/watch?v=eP-_kH7QfdE"
   ]
  },
  {
   "cell_type": "code",
   "execution_count": null,
   "metadata": {},
   "outputs": [],
   "source": [
    "from machine import ADC, Pin\n",
    "import time\n",
    "\n",
    "import matplotlib.pyplot as plt\n",
    "import numpy as np\n",
    "\n",
    "from functiongenerator import FuncGen, DC\n",
    "\n",
    "Ain0 = ADC(26) # Pin 26, Vin\n",
    "Ain1 = ADC(27) # Pin 27, Vout\n",
    "\n",
    "from machine import Pin\n",
    "Dout = Pin(14, Pin.OUT) \n",
    "\n",
    "#define the arrays to store data, and activate the pins\n",
    "Nm = 200 #number of measurements\n",
    "samples_OUT = np.zeros(Nm, dtype=np.uint16) \n",
    "samples_IN = np.zeros(Nm, dtype=np.uint16) \n",
    "tt = np.zeros(Nm, dtype=np.uint16)\n",
    "print(\"Starting the measurement\\n\")\n",
    "start = time.ticks_ms() # Current time measured in milliseconds\n",
    "\n",
    "for ii in range(Nm):\n",
    "    samples_OUT[ii]=Ain1.read_u16() # Take a sample\n",
    "    samples_IN[ii]=Ain0.read_u16() # Take a sample\n",
    "    \n",
    "    tt[ii]=time.ticks_ms() - start # Store time\n",
    "    time.sleep_ms(1)\n",
    "    \n",
    "    if ii == 50: # Do this once, and don't forget to turn it off once the loop ends\n",
    "        Dout.value(True)\n",
    "        print(ii, \"samples acquired\\nEnabling Dout0 (Pin GP14)\\n\")\n",
    "Dout.value(False)\n",
    "\n",
    "tt = np.array(tt) # Convert to Numpy array for easy operations\n",
    "samplesOUT = np.array(samples_OUT)\n",
    "samplesIN = np.array(samples_IN)\n",
    "\n",
    "\n",
    "plt.plot(tt, samplesOUT * 3.3 / 65535, '.-', color='b', label='V_out')\n",
    "plt.plot(tt, (tt > tt[50]) * 3.3, '.-', color='r', label='V_in Theoretical')\n",
    "plt.plot(tt, samplesIN * 3.3 / 65535, '.-', color='g', label='V_in')\n",
    "plt.xlabel(\"Time [ms]\")\n",
    "plt.ylabel(\"Voltage [V]\")\n",
    "plt.legend()\n",
    "\n",
    "print(Nm, \"samples acquired\\nDisabling Dout0\\n\\nMeasurement is done!\")"
   ]
  },
  {
   "cell_type": "markdown",
   "metadata": {},
   "source": [
    "## IMPLEMENT & INVESTIGATE 2: Time constant \n",
    "> <font color='grey'>⏳ Estimated time: 10 min</font>\n",
    "\n",
    "Above, you have made a plot of the data. We can now determine the time constant $\\tau $ experimetaly. Fill in the missing threshold value (???) in the code below to calculate the time constant automatically and print the value to the console. \n",
    "> <font size=6>ℹ️</font>\n",
    ">\n",
    "> <font color='00a6ed'> \n",
    ">The time constant is the time it takes until the signal reaches about exp$^{-1}$ of its maximum value. You can also think about this as a timepoint when the Vout is equal to e$^{-1}$*Vmax. When you input the threshold into the code, it will find for you that timepoint.\n"
   ]
  },
  {
   "cell_type": "code",
   "execution_count": null,
   "metadata": {},
   "outputs": [],
   "source": [
    "\n",
    "voltages= samples_OUT * 3.3 / 65535\n",
    "idx = np.argmax(voltages) # Index where voltage drop starts, argmax returns the first for multiple maxima\n",
    "\n",
    "tt_start = tt[idx]\n",
    "voltages_clipped = voltages[idx:]\n",
    "tt_clipped = tt[idx:]\n",
    "\n",
    "#Calculate time constant automatically\n",
    "'''\n",
    "Write code here, including defining a threshold=???? in order to find the crossing with that threshold. \n",
    "Think about capacitor discharge time and realise you want to find tau=RC, and input the correct formula accordingly as a threshold\n",
    "Hint: Remember the voltage that was set \n",
    "'''\n",
    "\n",
    "### TO DO=\"threshold =???, #for you to fill in\"\n",
    "\n",
    "\n",
    "tt_37_percent = tt_clipped[np.argmax(voltages_clipped < threshold)] # get first value where sample > threshold, check out np.argmax\n",
    "tau = tt_37_percent - tt_start\n",
    "print(f\"The time contant is {tau} miliseconds.\")\n",
    "\n",
    "plt.plot(tt_clipped, voltages_clipped, '.-', color='b', label='V_out [V]')\n",
    "plt.vlines(tt_start, 0, 3.3, color='grey', label='Dout0 is ON [ms]', linestyle='dashed')\n",
    "plt.vlines(tt_37_percent, 0, 3.3, color='grey', label='Threshold reached [ms]', linestyle='dashed')\n",
    "plt.hlines(threshold, tt_clipped[0], tt_clipped[-1], color='magenta', label='Threshold [V]', linestyle='dotted' )\n",
    "#plt.hlines(threshold, tt_clipped[0], tt_37_percent, color='black', label='RC Time', linestyle='solid' )\n",
    "plt.xlabel(\"Time [ms]\")\n",
    "\n",
    "plt.ylabel(\"Voltage [V]\")\n",
    "plt.legend()\n"
   ]
  },
  {
   "cell_type": "code",
   "execution_count": null,
   "metadata": {},
   "outputs": [],
   "source": [
    "print('Summary of the measurement:\\n')\n",
    "print('Samples 50 to 60 acquired from Dout0 [V]:',voltages[50:60])\n",
    "print('Associated timestamps [ms]:',tt[50:60], '\\n')\n",
    "print('Index of the first sample when Dout0 is enabled:', np.argmax(voltages==np.max(voltages)))\n",
    "#print('Index of the sample with the (first) recorded maximum value:', np.argmax(voltages))\n",
    "print('Time when Dout0 is enabled [ms]: ', tt_start)\n",
    "print('V_out when Dout0 is enabled [V]: ', voltages[np.argmax(voltages==np.max(voltages))], '\\n')\n",
    "\n",
    "print('Threshold value [V]: ', threshold, '\\n') \n",
    "print('Index of the sample with the measurement below the threshold: ', int(np.argmax(voltages==np.max(voltages))+np.argmax(voltages_clipped < threshold)))\n",
    "print('Time from start when threshold is reached [ms]: ',tt_37_percent)\n",
    "threshold_index = int(np.argmax(voltages==np.max(voltages))+np.argmax(voltages_clipped < threshold))\n",
    "print('V_out when the threshold is reached [V]: ', voltages[threshold_index], '\\n')\n",
    "\n",
    "print(f\"The time contant is {tau} miliseconds.\")\n"
   ]
  },
  {
   "cell_type": "markdown",
   "metadata": {},
   "source": [
    "**Do not remove this circuit from your Alpaca, you will need it in the next assignment!!**"
   ]
  },
  {
   "cell_type": "markdown",
   "metadata": {},
   "source": [
    "\n",
    "\n",
    "## COMPARE & CONCLUDE (first within your group, then with the TA)\n",
    "> <font color='grey'>⏳ Estimated time: 5 min</font>\n",
    "* Wait until all (4) group members finish their observation\n",
    "* Compare your results with your other group members. \n",
    "* If your results agree, and are in line with all predictions, then talk to a TA and get checked off\n",
    "* Otherwise, so if your results do not agree, or your results are not in line with your predictions, then first discuss amongst your group before getting a TA. \n",
    "\n",
    "**to be checked off by a TA:** \n",
    "1. What is the value of the cut-off frequency? \n",
    "2. How does the calculated time constant compare to the theoretical value? Please explain the (expected) difference.\n",
    "3. exit card: 1. Write a brief abstract on what you learned (conclusion, useful graph), 2. Which troubleshooting skills do you want to remember for next sessions, 3. Which code do you copy for use in next sessions,\n",
    "4. How do think this notebook could be improved\n",
    "\n",
    "**This notebook is on your laptop. To complete the opportunity for TA+teachers, upload this notebook again into Vocareum + submit**"
   ]
  },
  {
   "cell_type": "code",
   "execution_count": null,
   "metadata": {},
   "outputs": [],
   "source": [
    "### TO DO=\"1. cut-off frequency\"\n",
    "\n",
    "### TO DO=\"2. comparison calculated with theoretical time constant\"\n",
    "\n",
    "### TO DO=\"3a. abstract\"\n",
    "\n",
    "### TO DO=\"3b. troubleshooting\"\n",
    "\n",
    "### TO DO=\"3c. code\"\n",
    "\n",
    "### TO DO=\"4. what changes would you suggest?\"\n"
   ]
  },
  {
   "cell_type": "code",
   "execution_count": null,
   "metadata": {},
   "outputs": [],
   "source": [
    "\n"
   ]
  },
  {
   "cell_type": "code",
   "execution_count": null,
   "metadata": {},
   "outputs": [],
   "source": [
    "%rebootdevice\n",
    "%disconnect"
   ]
  },
  {
   "cell_type": "markdown",
   "metadata": {},
   "source": [
    "If you got stuck during the measurement, at the end of the lab assignment we offer you a movie clip with our recorded efforts in the lab. If you were successfull with measuring, then skip this movie clip\n",
"* https://www.youtube.com/watch?v=Dnm2TuacYDU"
   ]
  },
  {
   "cell_type": "code",
   "execution_count": null,
   "metadata": {},
   "outputs": [],
   "source": []
  }
 ],
 "metadata": {
  "celltoolbar": "Create Assignment",
  "kernelspec": {
   "display_name": "Alpaca Kernel",
   "language": "python",
   "name": "alpaca"
  },
  "language_info": {
   "codemirror_mode": {
    "name": "ipython",
    "version": 3
   },
   "file_extension": ".py",
   "mimetype": "text/x-python",
   "name": "python",
   "nbconvert_exporter": "python",
   "pygments_lexer": "ipython3",
   "version": "3.10.14"
  },
  "sos": {
   "kernels": [
    [
     "MicroPython - USB",
     "micropython",
     "micropython",
     "",
     "python"
    ],
    [
     "Python3",
     "python3",
     "Python3",
     "#FFD91A",
     {
      "name": "ipython",
      "version": 3
     }
    ]
   ],
   "panel": {
    "displayed": true,
    "height": 0
   },
   "version": "0.22.3"
  },
  "toc": {
   "base_numbering": 1,
   "nav_menu": {},
   "number_sections": true,
   "sideBar": true,
   "skip_h1_title": false,
   "title_cell": "Table of Contents",
   "title_sidebar": "Contents",
   "toc_cell": false,
   "toc_position": {},
   "toc_section_display": true,
   "toc_window_display": false
  }
 },
 "nbformat": 4,
 "nbformat_minor": 4
}

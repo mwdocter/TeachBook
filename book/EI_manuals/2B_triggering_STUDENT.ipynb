{
 "cells": [
  {
   "cell_type": "code",
   "execution_count": null,
   "metadata": {},
   "outputs": [],
   "source": [
    "from IPython.core.display import HTML\n",
    "def set_width(width):\n",
    "    display(HTML(f\"\"\"<style>  \n",
    "            .container {{ width:{width}% !important; \n",
    "                            min-width:800px !important; margin: 0 auto}} \n",
    "            .jp-Cell {{ width:{width}% !important; \n",
    "                            min-width:800px !important; margin: 0 auto}} </style>\"\"\"))\n",
    "# Set container width to X% of the fullscreen \n",
    "set_width(50)"
   ]
  },
  {
   "cell_type": "markdown",
   "metadata": {},
   "source": [
  "# 2B: Triggering between function generator and oscilloscope\n",
    "> <font color='blue'>Learning goal:</font> understand what triggering is, how you can use it with the oscilloscope and the function generator, and why it is useful.\n",
    "\n",
    "Structure of experiment:\n",
    "- Background+Anticipate (5+10 min): per person. This is homework.\n",
    "- Simulate: not this time\n",
    "- Implement & Investigate (15+10 min): with partner (group of 2)\n",
    "- Compare & Conclude (10 min): with group of 4 (per table)"
   ]
  },
  {
   "cell_type": "markdown",
   "metadata": {},
   "source": [
    "## Background\n",
    "> <font color='grey'>⏳ Estimated time: 5 min</font>\n",
    "\n",
    "The trigger is a very useful function that allows us to control the way in which a signal is displayed by the oscilloscope. The trigger determines when the oscilloscope starts to acquire data and display a waveform. \n",
    "\n",
    "Check out the intro on the scope, focus on triggering: \n",
    "https://mwdocter.github.io/TeachBook/main/EI_manuals/intro_scope_Agilent.html\n",
    "\n",
    "\n",
    "## Anticipate\n",
    "> <font color='grey'>⏳ Estimated time: 10 min</font>\n",
    "\n",
    "You can trigger either on the signal itself (a sine) or on the sync signal (a block wave). \n",
    "* Give an example when it is ok to use the signal for triggering\n",
    "* Give an example when you need the sync signal for triggering"
   ]
  },
  {
   "cell_type": "code",
   "execution_count": null,
   "metadata": {},
   "outputs": [],
   "source": [
    "### TO DO=\"Examples when to trigger on the signal itself, and on the sync\"\n"
   ]
  },
  {
   "cell_type": "markdown",
   "metadata": {},
   "source": [
    "Watch the following movie to get a quick intro in what you will be doing in the measurements\n",
    "* https://www.youtube.com/watch?v=GB855wO8aG8"
   ]
  },
  {
   "cell_type": "markdown",
   "metadata": {},
   "source": [
    "## Implement 1: Display the signals correctly, while triggering on signal 1\n",
    "> <font color='grey'>⏳ Estimated time: 15 min</font>\n",
    "\n",
    "### 1a Display the signals in an untriggered condition.  \n",
    "* Generate a 1kHz sine wave of 2Vrms and connect the function generator's output to Channel 1 of the oscilloscope. \n",
    "* Use the second output channel to generate a rectangular wave with duty cycle 50% and connect it to Channel 2 of the oscilloscope. \n",
    "\n",
    "See https://mwdocter.github.io/TeachBook/main/EI_manuals/intro_scope_Agilent.html for the default settings. Use those settings.\n",
    "\n",
    "### 1b Explore settings: MODE and SLOPE control\n",
    "* With trigger MODE set to EDGE change the SLOPE control. \n",
    "* Observe the difference between the rising edge and the falling edge. \n",
    "\n",
    "When toggling between rising and falling edge, is the signal shifting in time, or inverting amplitude (+-)?\n",
    "\n",
    "### 1c Explore settings: trigger level\n",
    "* What happens when setting the trigger level very high?\n",
    "\n",
    "<details>\n",
    "<summary><font size=4>ℹ️</font> <b>Derivation</b></summary>\n",
    "* Set the trigger level to a high value (1.4 - 2.4V). \n",
    "* Now in the function generator, change the amplitude of the voltage from 2Vrms to 2Vpp and observe what happens to the waveform displayed. \n",
    "</details>\n",
    "\n",
    "* Why is it, in general, not recommended to set the trigger at a very high level?\n",
    "\n",
    "\n"
   ]
  },
  {
   "cell_type": "code",
   "execution_count": 1,
   "metadata": {},
   "outputs": [],
   "source": [
    "### TO DO=\"write down your notes on SLOPE control and trigger level, what do they do?\"\n"
   ]
  },
  {
   "cell_type": "markdown",
   "metadata": {},
   "source": [
    "## Implement & investigate 2: Display the signals correctly, while triggering on signal 2\n",
    "> <font color='grey'>⏳ Estimated time: 10 min</font>\n",
    "\n",
    "### 2a Trigger on the SYNC signal on Channel2\n",
    "* Implement triggering on CH2 (SYNC) instead of CH1 (output signal)\n",
    "* Lower the voltage of the output signal at the function generator by a factor of 10. \n",
    "* What happens to the signal on the scope screen?\n",
    "\n",
    "Can you already figure the benefit of triggering on the SYNC instead of the signal?\n",
    "\n",
    "### 2b Trigger on the SYNC signal on the external triggering channel\n",
    "* Switch the cable with the SYNC signal from CH2 to external triggering. \n",
    "* You cannot observe the SYNC signal on the scope anymore, but you know its values. \n",
    "* Adapt the trigger SOURCE consequenctly. \n",
    "\n",
    "What is the benefit of using SYNC on the external trigger instead of on CH2? \n"
   ]
  },
  {
   "cell_type": "code",
   "execution_count": null,
   "metadata": {},
   "outputs": [],
   "source": [
    "### TO DO=\"write down your notes on triggering on the SYNC, and using the external trigger signal\"\n"
   ]
  },
  {
   "cell_type": "markdown",
   "metadata": {
    "nbgrader": {
     "grade": false,
     "grade_id": "cell-b192045c4dab7475",
     "locked": false,
     "schema_version": 3,
     "solution": false,
     "task": false
    }
   },
   "source": [
    "## Compare & Conclude\n",
    "> <font color='grey'>⏳ Estimated time: 10 min</font>\n",
    "\n",
    "By now you know the drill:\n",
    "* Wait till all (4) group members finish their observation\n",
    "* Compare your results with your other group members. \n",
    "* If your results agree, and are in line with all predictions, then talk to a TA and get checked off\n",
    "* Otherwise, so if your results do not agree, or your results are not in line with your predictions, then first discuss amongst your group before getting a TA. \n",
    "\n",
    "\n",
    "**to be checked off by a TA:** <br>\n",
    "Suppose the following setup: signal V_in is generated by the function generator, V_out is to be measured by the oscilloscope. V_out turns out to be a really small and noisy signal. Both V_in and V_out can be connected to the scope. \n",
    "* What would happen if you trigger on V_out?\n",
    "\n",
    "1. Explain which 2 signals can be used for triggering on the scope, and how to connect them?\n",
    "2. exit card: 1. Write a brief abstract on what you learned (conclusion, useful graph), 2. Which troubleshooting skills do you want to remember for next sessions, 3. Which code do you copy for use in next sessions,\n",
    "3. How do think this notebook could be improved"
   ]
  },
  {
   "cell_type": "code",
   "execution_count": 2,
   "metadata": {},
   "outputs": [],
   "source": [
    "#2B triggering\n",
    "### TO DO=\"What would happen on V_out? 1. Explain which 2 signals can be used for triggering on the scope, and how to connect them?\"\n",
    "\n",
    "### TO DO=\"2a. abstract\"\n",
    "\n",
    "### TO DO=\"2b. troubleshooting\"\n",
    "\n",
    "### TO DO=\"2c. code\"\n",
    "\n",
    "### TO DO=\"3. what changes would you suggest?\"\n"
   ]
  },
  {
   "cell_type": "markdown",
   "metadata": {},
   "source": [
    "If you got stuck during the measurement, at the end of the lab assignment we offer you a movie clip with our recorded efforts in the lab. If you were successfull with measuring, then skip this movie clip\n",
   "* https://www.youtube.com/watch?v=lozkaZJ3aUI"
   ]
  },
  {
   "cell_type": "code",
   "execution_count": null,
   "metadata": {},
   "outputs": [],
   "source": []
  }
 ],
 "metadata": {
  "celltoolbar": "Create Assignment",
  "jupytext": {
   "formats": "ipynb,md"
  },
  "kernelspec": {
   "display_name": "Python 3 (ipykernel)",
   "language": "python",
   "name": "python3"
  },
  "language_info": {
   "codemirror_mode": {
    "name": "ipython",
    "version": 3
   },
   "file_extension": ".py",
   "mimetype": "text/x-python",
   "name": "python",
   "nbconvert_exporter": "python",
   "pygments_lexer": "ipython3",
   "version": "3.7.12"
  },
  "latex_envs": {
   "LaTeX_envs_menu_present": true,
   "autoclose": false,
   "autocomplete": true,
   "bibliofile": "biblio.bib",
   "cite_by": "apalike",
   "current_citInitial": 1,
   "eqLabelWithNumbers": true,
   "eqNumInitial": 1,
   "hotkeys": {
    "equation": "Ctrl-E",
    "itemize": "Ctrl-I"
   },
   "labels_anchors": false,
   "latex_user_defs": false,
   "report_style_numbering": false,
   "user_envs_cfg": false
  },
  "toc": {
   "base_numbering": 1,
   "nav_menu": {},
   "number_sections": true,
   "sideBar": true,
   "skip_h1_title": false,
   "title_cell": "Table of Contents",
   "title_sidebar": "Contents",
   "toc_cell": false,
   "toc_position": {},
   "toc_section_display": true,
   "toc_window_display": false
  }
 },
 "nbformat": 4,
 "nbformat_minor": 4
}

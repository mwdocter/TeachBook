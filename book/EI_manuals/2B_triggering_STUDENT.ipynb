{
 "cells": [
  {
   "cell_type": "markdown",
   "metadata": {},
   "source": [
    "<div class=\"alert alert-block alert-info\">\n",
    "\n",
    "**Accessibility of the notebook:**\n",
    "- You can adjust the width of the text with the function provided below. Copy it into a new code cell and execute it using the `ipykernel`.\n",
    "    ```python\n",
    "    from IPython.core.display import HTML\n",
    "    def set_width(width):\n",
    "        display(HTML(f\"\"\"<style>  \n",
    "                .container {{ width:{width}% !important; \n",
    "                                min-width:800px !important; margin: 0 auto}} \n",
    "                .jp-Cell {{ width:{width}% !important; \n",
    "                                min-width:800px !important; margin: 0 auto}} </style>\"\"\"))\n",
    "    # Set container width to X% of the fullscreen \n",
    "    set_width(50)\n",
    "    ```\n",
    "- You can toggle the auto-numbering of the sections in the outline toolbox (sidebar or topbar).\n",
    "- You can toggle the code line numbers in the dropdown menu of the \"view\" button in the topbar. \n",
    "- You can collapse/expand a cell by clicking the blue bar on the left side of the cell.\n",
    "\n",
    "</div>"
   ]
  },
  {
   "cell_type": "code",
   "execution_count": null,
   "metadata": {},
   "outputs": [],
   "source": [
    "from IPython.core.display import HTML\n",
    "def set_width(width):\n",
    "    display(HTML(f\"\"\"<style>  \n",
    "            .container {{ width:{width}% !important; \n",
    "                            min-width:800px !important; margin: 0 auto}} \n",
    "            .jp-Cell {{ width:{width}% !important; \n",
    "                            min-width:800px !important; margin: 0 auto}} </style>\"\"\"))\n",
    "# Set container width to X% of the fullscreen \n",
    "set_width(50)"
   ]
  },
  {
   "cell_type": "markdown",
   "metadata": {},
   "source": [
    "Experiments of this week:\n",
    "-   experiment 2A: Investigate the AC/DC coupling and the AC frequency dependency with the oscilloscope\n",
    "-   experiment 2B: Apply the correct triggering between function generator and oscilloscope\n",
    "-   experiment 2C: Use the picopi to measure the Thevenin equivalent of a circuit\n",
    "\n",
    "Goal: Understanding the use of an oscilloscope (voltage, triggering) and the use of the ALPACA \n",
    "\n",
    "Structure of experiment:\n",
    "- Background+Anticipate (5+10 min): per person. This is homework.\n",
    "- Simulate: not this time\n",
    "- Implement & Investigate (15+10 min): with partner (group of 2)\n",
    "- Compare & Conclude (10 min): with group of 4 (per table)"
   ]
  },
  {
   "cell_type": "markdown",
   "metadata": {},
   "source": [
    "# 2B: Triggering between function generator and oscilloscope\n",
    "> <font color='blue'>Learning goal:</font> understand what triggering is, how you can use it with the oscilloscope and the function generator, and why it is useful.\n",
    "\n",
    "## Background\n",
    "> <font color='grey'>⏳ Estimated time: 5 min</font>\n",
    "\n",
    "The trigger is a very useful function that allows us to control the way in which a signal is displayed by the oscilloscope. The trigger determines when the oscilloscope starts to acquire data and display a waveform. \n",
    "\n",
    "Check out the intro on the scope, focus on triggering: \n",
    "https://mwdocter.github.io/TeachBook/main/EI_manuals/intro_scope_Siglent.html\n",
    "\n",
    "\n",
    "## Anticipate\n",
    "> <font color='grey'>⏳ Estimated time: 10 min</font>\n",
    "\n",
    "You can trigger either on the signal itself (a sine) or on the 'trigger output' signal (either a sharp spike, or block wave). \n",
    "* Give an example when it is ok to use the signal for triggering\n",
    "* Give an example when you need the trigger out signal for triggering"
   ]
  },
  {
   "cell_type": "code",
   "execution_count": null,
   "metadata": {},
   "outputs": [],
   "source": [
    "### TO DO=\"Examples when to trigger on the signal itself, and on the trigger out\"\n"
   ]
  },
  {
   "cell_type": "markdown",
   "metadata": {},
   "source": [
    "Watch the following movie to get a quick intro in what you will be doing in the measurements"
   ]
  },
  {
   "cell_type": "code",
   "execution_count": null,
   "metadata": {},
   "outputs": [],
   "source": [
    "## precap ELC4\n",
    "\n",
    "from IPython.lib.display import YouTubeVideo\n",
    "YouTubeVideo('GB855wO8aG8', width = 600, height = 450)"
   ]
  },
  {
   "cell_type": "markdown",
   "metadata": {},
   "source": [
    "## Implement 1: Display the signals correctly, while triggering on **signal 1**\n",
    "> <font color='grey'>⏳ Estimated time: 15 min</font>\n",
    "\n",
    "### 1a Display the signals in an untriggered condition.  \n",
    "* Generate a 1kHz sine wave of 2Vrms and connect the function generator's channel1 output to Channel 1 of the oscilloscope.\n",
    "* Generate a 1kHz block wave on the Function generator channel 2, connect it to Channel 2 of the oscilloscope\n",
    "* Generate a trigger out (rear panel function generator) and connect it Channel 3 of the oscilloscope. \n",
    "\n",
    "See https://mwdocter.github.io/TeachBook/main/EI_manuals/intro_scope_Siglent.html for the default settings. Use those settings.\n",
    "\n",
    "Explore the different sources, which one works best for you?\n",
    "\n",
    "\n",
    "### 1b Explore settings: MODE and SLOPE control\n",
    "* With trigger MODE set to EDGE change the SLOPE control. \n",
    "* Observe the difference between the rising edge and the falling edge. \n",
    "\n",
    "When toggling between rising and falling edge, is the signal shifting in time, or inverting amplitude (+-)?\n",
    "\n",
    "### 1c Explore settings: trigger level\n",
    "<details>\n",
    "<summary><font size=4>ℹ️</font> <b>Hints</b></summary>\n",
    "                                               \n",
    "* Set the trigger level to a high value (1.4 - 2.4V). \n",
    "* Now in the function generator, change the amplitude of the voltage from 2Vrms to 2Vpp and observe what happens to the waveform displayed. \n",
    "* In general, it is recommended not to set the trigger at a very high level.  Adjust the trigger level again, to get a steady image of the signal.\n",
    "\n",
    "</details>\n",
    "\n"
   ]
  },
  {
   "cell_type": "code",
   "execution_count": 1,
   "metadata": {},
   "outputs": [],
   "source": [
    "### TO DO=\"write down your notes on SLOPE control and trigger level, what do they do?\"\n"
   ]
  },
  {
   "cell_type": "markdown",
   "metadata": {},
   "source": [
    "## Implement & investigate 2: Display the signals correctly, while triggering on **channel 2 and 3**\n",
    "> <font color='grey'>⏳ Estimated time: 10 min</font>\n",
    "\n",
    "### 2a Trigger on the BLOCK signal on Channel2\n",
    "* Implement triggering on CH2 (block wave) instead of CH1 (output signal)\n",
    "* Lower the voltage of the output signal at the function generator by a factor of 10. \n",
    "* What happens to the signal on the scope screen?\n",
    "\n",
    "Can you already figure the benefit of triggering on the block wave instead of the signal?\n",
    "\n",
    "### 2b Trigger on the tigger out signal on Channel3\n",
    "* Implement triggering of the oscilloscope on the trigger out signal from the function generator. \n",
    "* Can you see the trigger out pulse?. \n",
    "* Adapt the trigger SOURCE consequenctly. \n",
    "\n",
    "What is the benefit of using trigger out instead of the block wave as trigger source?\n"
   ]
  },
  {
   "cell_type": "code",
   "execution_count": null,
   "metadata": {},
   "outputs": [],
   "source": [
    "### TO DO=\"write down your notes on triggering on the block wave and trigger out pulse\"\n"
   ]
  },
  {
   "cell_type": "markdown",
   "metadata": {
    "nbgrader": {
     "grade": false,
     "grade_id": "cell-b192045c4dab7475",
     "locked": false,
     "schema_version": 3,
     "solution": false,
     "task": false
    }
   },
   "source": [
    "## Compare & Conclude\n",
    "> <font color='grey'>⏳ Estimated time: 10 min</font>\n",
    "\n",
    "By now you know the drill:\n",
    "* Wait till all (4) group members finish their observation\n",
    "* Compare your results with your other group members. \n",
    "* If your results agree, and are in line with all predictions, then talk to a TA and get checked off\n",
    "* Otherwise, so if your results do not agree, or your results are not in line with your predictions, then first discuss amongst your group before getting a TA. \n",
    "\n",
    "\n",
    "**to be checked off by a TA:** <br>\n",
    "Suppose the following setup: signal V_in is generated by the function generator, V_out is to be measured by the oscilloscope. V_out turns out to be a really small and noisy signal. Both V_in and V_out can be connected to the scope. \n",
    "* What would happen if you trigger on V_out?\n",
    "\n",
    "1. Explain which 2 signals can be used for triggering on the scope, and how to connect them?\n",
    "2. exit card:\n",
    "   1. Write a brief abstract on what you learned (conclusion, useful graph),\n",
    "   2. Which troubleshooting skills do you want to remember for next sessions,\n",
    "   3. Which code do you copy for use in next sessions,\n",
    "4. How do think this notebook could be improved"
   ]
  },
  {
   "cell_type": "code",
   "execution_count": 2,
   "metadata": {},
   "outputs": [],
   "source": [
    "#2B triggering\n",
    "### TO DO=\"What would happen on V_out? 1. Explain which 2 signals can be used for triggering on the scope, and how to connect them?\"\n",
    "\n",
    "### TO DO=\"2a. abstract\"\n",
    "\n",
    "### TO DO=\"2b. troubleshooting\"\n",
    "\n",
    "### TO DO=\"2c. code\"\n",
    "\n",
    "### TO DO=\"3. what changes would you suggest?\"\n"
   ]
  },
  {
   "cell_type": "markdown",
   "metadata": {},
   "source": [
    "If you got stuck during the measurement, at the end of the lab assignment we offer you a movie clip with our recorded efforts in the lab. If you were successfull with measuring, then skip this movie clip"
   ]
  },
  {
   "cell_type": "code",
   "execution_count": null,
   "metadata": {},
   "outputs": [],
   "source": [
    "## recording ELC4\n",
    "\n",
    "from IPython.lib.display import YouTubeVideo\n",
    "YouTubeVideo('lozkaZJ3aUI', width = 600, height = 450)"
   ]
  },
  {
   "cell_type": "code",
   "execution_count": null,
   "metadata": {},
   "outputs": [],
   "source": []
  }
 ],
 "metadata": {
  "celltoolbar": "Create Assignment",
  "jupytext": {
   "formats": "ipynb,md"
  },
  "kernelspec": {
   "display_name": "Python 3 (ipykernel)",
   "language": "python",
   "name": "python3"
  },
  "language_info": {
   "codemirror_mode": {
    "name": "ipython",
    "version": 3
   },
   "file_extension": ".py",
   "mimetype": "text/x-python",
   "name": "python",
   "nbconvert_exporter": "python",
   "pygments_lexer": "ipython3",
   "version": "3.10.14"
  },
  "latex_envs": {
   "LaTeX_envs_menu_present": true,
   "autoclose": false,
   "autocomplete": true,
   "bibliofile": "biblio.bib",
   "cite_by": "apalike",
   "current_citInitial": 1,
   "eqLabelWithNumbers": true,
   "eqNumInitial": 1,
   "hotkeys": {
    "equation": "Ctrl-E",
    "itemize": "Ctrl-I"
   },
   "labels_anchors": false,
   "latex_user_defs": false,
   "report_style_numbering": false,
   "user_envs_cfg": false
  },
  "toc": {
   "base_numbering": 1,
   "nav_menu": {},
   "number_sections": true,
   "sideBar": true,
   "skip_h1_title": false,
   "title_cell": "Table of Contents",
   "title_sidebar": "Contents",
   "toc_cell": false,
   "toc_position": {},
   "toc_section_display": true,
   "toc_window_display": false
  }
 },
 "nbformat": 4,
 "nbformat_minor": 4
}

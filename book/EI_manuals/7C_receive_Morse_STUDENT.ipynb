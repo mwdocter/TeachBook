{
 "cells": [
  {
   "cell_type": "code",
   "execution_count": null,
   "metadata": {},
   "outputs": [],
   "source": [
    "from IPython.core.display import HTML\n",
    "def set_width(width):\n",
    "    display(HTML(f\"\"\"<style>  \n",
    "            .container {{ width:{width}% !important; \n",
    "                            min-width:800px !important; margin: 0 auto}} \n",
    "            .jp-Cell {{ width:{width}% !important; \n",
    "                            min-width:800px !important; margin: 0 auto}} </style>\"\"\"))\n",
    "# Set container width to X% of the fullscreen \n",
    "set_width(50)"
   ]
  },
  {
   "cell_type": "markdown",
   "metadata": {},
   "source": [
    "# 7C: Morse reception\n",
    "\n",
    "Goal: Acquiring analog signals with NIDAQ, plus writing and testing code for the Fourier transfrom and to decode the Morse signal (from 6B)\n",
    "\n",
    "Structure of an experiment:\n",
    "- Anticipate + Simulate (10+20+20): per person. This is homework and should be finished **before** you start your 4 hours practicum session\n",
    "- Implement + Investigate (30 min): with your partner (group of 2)\n",
    "- Compare + Conclude (10 min): with a group of 4 (per table)\n"
   ]
  },
  {
   "cell_type": "markdown",
   "metadata": {},
   "source": [
    "# 7C: Morse reception\n",
    "\n",
    "> <font color='blue'>Learning goals:</font> You will learn how to receive a signal, and you will write an inverse code \n",
    "\n"
   ]
  },
  {
   "cell_type": "markdown",
   "metadata": {},
   "source": [
    "## BACKGROUND: Receiving a signal\n",
    "> <font color='grey'>⏳ Estimated time: 10 min</font>\n",
    "\n",
    "In exercise 6B you send out a morse code, now it is time to receive and decode it. Let's break that into steps\n",
    "\n",
    "1 - **acquisition**: you will have to acquire the signal, turn it from visual light back into a recorded signal. \n",
    "\n",
    "2 - **analyzing the data**: the recorded signal might be noisy, while the input was binary on/off. Therefore, the first step to adapt is to threshold, and make it binary (on/off) again. The most simple way is a *signal>threshold*, however you can have smarter approaches (like https://pubmed.ncbi.nlm.nih.gov/34036291/, AutoStepfinder: A fast and automated step detection method for single-molecule analysis). \n",
    "\n",
    "3 - The next step is to **translate** the binaray times signal into dash, dots, long and short pauses. \n",
    "\n",
    "4 - And the last step is to **lookup** the dash-dot signal into alphabet again. \n",
    "\n",
    "While the measurement is someting to do in the lab, it is good practice to have your code ready on beforehand, and test it on dummy data. This is to be done in the anticipate section (write the reverse code), and in simulate (write code to go from an analog timed signal to a dash-dot-long/short pause string). "
   ]
  },
  {
   "cell_type": "code",
   "execution_count": null,
   "metadata": {},
   "outputs": [],
   "source": [
    "#change the port to your port: if it gives an error, it also suggest you the best COM number\n",
    "%serialconnect to --port=\"COM3\" \n",
    "\n",
    "# note: we run this file with alpaca kernel, but the analysis will be done in a python kernel (with %python)\n",
    "# since the implementation of numpy in alpaca_kernel is limited"
   ]
  },
  {
   "cell_type": "markdown",
   "metadata": {},
   "source": [
    "Some code from 6B is copied here for your convenience. Also a reversed dictionary is given. "
   ]
  },
  {
   "cell_type": "code",
   "execution_count": null,
   "metadata": {},
   "outputs": [],
   "source": [
    "%python\n",
    "import numpy as np\n",
    "import matplotlib.pyplot as plt\n",
    "# from https://www.geeksforgeeks.org/morse-code-translator-python/\n",
    "# Dictionary representing the morse code chart #dict will be explained in later courses, just use the code for now\n",
    "MORSE_CODE_DICT = { 'A':'.-', 'B':'-...',\n",
    "                    'C':'-.-.', 'D':'-..', 'E':'.',\n",
    "                    'F':'..-.', 'G':'--.', 'H':'....',\n",
    "                    'I':'..', 'J':'.---', 'K':'-.-',\n",
    "                    'L':'.-..', 'M':'--', 'N':'-.',\n",
    "                    'O':'---', 'P':'.--.', 'Q':'--.-',\n",
    "                    'R':'.-.', 'S':'...', 'T':'-',\n",
    "                    'U':'..-', 'V':'...-', 'W':'.--',\n",
    "                    'X':'-..-', 'Y':'-.--', 'Z':'--..'} #,\n",
    "#                     '1':'.----', '2':'..---', '3':'...--',\n",
    "#                     '4':'....-', '5':'.....', '6':'-....',\n",
    "#                     '7':'--...', '8':'---..', '9':'----.',\n",
    "#                     '0':'-----', ', ':'--..--', '.':'.-.-.-',\n",
    "#                     '?':'..--..', '/':'-..-.', '-':'-....-',\n",
    "#                     '(':'-.--.', ')':'-.--.-'}\n",
    "\n",
    "# adapted from https://stackoverflow.com/questions/28142019/python-morse-code-pausing\n",
    "def encodeMessage(m):\n",
    "    message = m.upper().strip()\n",
    "    encodedMessage =''\n",
    "    isInWord = False\n",
    "\n",
    "    for ch in message:\n",
    "        if isInWord:\n",
    "            if ch in MORSE_CODE_DICT:\n",
    "                encodedMessage += 'l'+ MORSE_CODE_DICT[ch]\n",
    "            else:\n",
    "                encodedMessage += 'w'\n",
    "                isInWord = False\n",
    "        else: # not in word\n",
    "            if ch in MORSE_CODE_DICT:\n",
    "                encodedMessage +=  MORSE_CODE_DICT[ch]\n",
    "                isInWord = True\n",
    "            else:\n",
    "                pass    # nothing to do\n",
    "    return encodedMessage\n"
   ]
  },
  {
   "cell_type": "code",
   "execution_count": null,
   "metadata": {},
   "outputs": [],
   "source": [
    "%python\n",
    "#from https://geekflare.com/python-morse-code-translator/\n",
    "def reverse_mapping(mapping):\n",
    "    reversed = {}\n",
    "    for key, value in mapping.items():\n",
    "        reversed[value] = key\n",
    "    return reversed\n",
    "\n",
    "REVERSED_MORSE_CODE_DICT=reverse_mapping(MORSE_CODE_DICT)\n",
    "\n"
   ]
  },
  {
   "cell_type": "markdown",
   "metadata": {},
   "source": [
    "Now you can use two dictionaries to back and forth between morse and text. \n",
    "* Note: the line of code below shows you how to add strings together, and how to extract values from the dictionaries. "
   ]
  },
  {
   "cell_type": "code",
   "execution_count": null,
   "metadata": {},
   "outputs": [],
   "source": [
    "%python\n",
    "print(MORSE_CODE_DICT['A'] + '    '+ REVERSED_MORSE_CODE_DICT['.-'])"
   ]
  },
  {
   "cell_type": "markdown",
   "metadata": {},
   "source": [
    "## ANTICIPATE: \n",
    "> <font color='grey'>⏳ Estimated time: 20 min</font>\n",
    "\n",
    "In anticipate you will look at the steps required to get from the recorded signal to 1. a binary signal, 2. a (received) morse code. \n",
    "\n",
    "The code just below is simulating a received signal, such that you can write and test your code to get to the morse code (with dots and dashes)"
   ]
  },
  {
   "cell_type": "markdown",
   "metadata": {},
   "source": [
    "### PART 1: turning words -> morse -> binary -> voltage value and add noise"
   ]
  },
  {
   "cell_type": "code",
   "execution_count": null,
   "metadata": {},
   "outputs": [],
   "source": [
    "%python # has to run in python kernel, since alpaca has no np.append or np.random \n",
    "%matplotlib inline # this is needed to show the plot in the notebook\n",
    "\n",
    "## simulation code for making a binary signal\n",
    "AA=encodeMessage('ha ha this should work'.upper()) # first make some input message\n",
    "\n",
    "print(AA) # your message encoded in morse code\n",
    "binar=np.zeros(1)\n",
    "for ii in AA:\n",
    "    #print(ii)\n",
    "    if ii==\"-\":   binar=np.append(binar,[1,1,1,0])\n",
    "    elif ii==\".\": binar=np.append(binar,[1,0])\n",
    "    elif ii==\"l\": binar=np.append(binar,[0,0])\n",
    "    elif ii=='w': binar=np.append(binar,[0,0,0,0,0,0])\n",
    "print(binar) # your message encoded into binary code\n",
    "\n",
    "# now transfer it to values between 0 and 3 V, plus add noise\n",
    "binar2a=binar*3+0.6*(np.random.random(len(binar))-0.5)\n",
    "plt.plot(binar2a)"
   ]
  },
  {
   "cell_type": "markdown",
   "metadata": {},
   "source": [
    "### PART 2: turning noisy voltage back to binary"
   ]
  },
  {
   "cell_type": "markdown",
   "metadata": {},
   "source": [
    "Now it is up to you to add to the code below, to extract a series of 0 &1 (binar3) from binar2a\n",
    "\n",
    "> <font size=4>ℹ️</font> <b>Hint</b><br> use a threshold. Think what would be a logical threshold. It might be helpful to go back to previous code and print statements to see how to binar and binar2a look. Rememebr you want to threshold binar2a so it ends up looking like binar once again"
   ]
  },
  {
   "cell_type": "code",
   "execution_count": null,
   "metadata": {},
   "outputs": [],
   "source": [
    "%python\n",
    "def signal2binary(binar2a):\n",
    "### TO DO=\" make binar2a into binary (binar3), do some thresholding (fixed number, or adapted to np.max(binar2a)?)\"\n",
    "\n",
    "    return binar3\n",
    "\n",
    "binar3=signal2binary(binar2a)\n",
    "print(binar3*1)\n",
    "\n"
   ]
  },
  {
   "cell_type": "markdown",
   "metadata": {},
   "source": [
    "### PART 3: turn binary -> morse"
   ]
  },
  {
   "cell_type": "markdown",
   "metadata": {},
   "source": [
    "After making it into 0&1, write a function which translates the timesignal (binar3) into a message (with -.lw)\n"
   ]
  },
  {
   "cell_type": "code",
   "execution_count": null,
   "metadata": {},
   "outputs": [],
   "source": [
    "%python\n",
    "def timesignal2message(binar3):\n",
    "    BB='' #empty string, which you can add letters to with BB+=''\n",
    "    ii=0\n",
    "    while ii<len(binar3): # while loop runs over the 0&1s\n",
    "       # print(ii,binar3[ii:ii+2]) # no need to print, but be inspired by comparing to at least two consecutive binary values\n",
    "       # you could search for [0,1,0], [0,1,1], [0,0,0] and [0,0,0,0,0] or something alike \n",
    "        # remember! if you want to find 0,0,0,0,0 make sure you don't exclude it first by \"seesing\" 0,0,0\n",
    "### TO DO =\"write some if-statements to check the binary number(s), and add a corresponding letter (lw.-) to BB\"\n",
    "\n",
    "\n",
    "\n",
    "\n",
    "\n",
    "        ii+=1\n",
    "    \n",
    "    return BB\n",
    "#test if everything worked\n",
    "BB=timesignal2message(binar3)\n",
    "print(BB)"
   ]
  },
  {
   "cell_type": "markdown",
   "metadata": {},
   "source": [
    "## SIMULATE: \n",
    "> <font color='grey'>⏳ Estimated time: 20 min</font>\n",
    "\n",
    "The last step is to decode the dots and dashes Morse code into English. Try out the function below. \n",
    "\n",
    "Does your decodedmessage read 'ha ha this should work'? \n",
    "\n",
    "\n",
    "If not, double check your `signal2binary` or `timesignal2message` function."
   ]
  },
  {
   "cell_type": "code",
   "execution_count": null,
   "metadata": {},
   "outputs": [],
   "source": [
    "%python\n",
    "def decodeMessage(AA):\n",
    "    message=''# already initiate an empty string, which you'll later append, with str.append()\n",
    "    # part 1a: first split into words and letters\n",
    "    words = AA.split(\"w\") # string.split(break) will make a list, with each entry of the list being a word\n",
    "    for word in words: # loop over all words, per iteration you get one word\n",
    "        letters = word.split(\"l\") # split all letters within one word\n",
    "        for letter in letters: # for one letter \n",
    "            message+=(REVERSED_MORSE_CODE_DICT[letter]) #add the found English letter\n",
    "        message+=' ' # put a space between words\n",
    "    return(message)\n"
   ]
  },
  {
   "cell_type": "code",
   "execution_count": null,
   "metadata": {},
   "outputs": [],
   "source": [
    "%python\n",
    "CC=decodeMessage(BB)\n",
    "print(CC)"
   ]
  },
  {
   "cell_type": "markdown",
   "metadata": {},
   "source": [
    "Do you think the `decodeMessage` will always work? \n",
    "\n",
    "Try it on the code below, where we altered one data point."
   ]
  },
  {
   "cell_type": "code",
   "execution_count": null,
   "metadata": {},
   "outputs": [],
   "source": [
    "%python\n",
    "binar3[49]=1\n",
    "BB=timesignal2message(binar3)\n",
    "print(decodeMessage(BB))"
   ]
  },
  {
   "cell_type": "markdown",
   "metadata": {},
   "source": [
    "There will be an error if the Morse code is not in the REVERSED_MORSE_CODE_DICT.\n",
    "\n",
    "In order to still be able to read out the other part of the signal, we can use an extra bit of code: `try` & `except`. \n",
    "\n",
    "- The `try` executes the code, and if there's no error it continues after the `except` case. \n",
    "- If the `try` gives an error, then the code within the `except` block is executed. \n",
    "\n",
    "In the code below, we try to find the reversed Morse code, but if it can't find an existing letter, it puts in a question mark. \n",
    "\n",
    "Run the code below, and see whether your `binar3` can be read. \n"
   ]
  },
  {
   "cell_type": "code",
   "execution_count": null,
   "metadata": {},
   "outputs": [],
   "source": [
    "%python\n",
    "# use try and except structure to catch errors in the binary signal and replace them with a question mark\n",
    "def decodeMessage_adapt(AA):\n",
    "    message=''# already initiate an empty string, which you'll later append, with str.append()\n",
    "    # part 1a: first split into words and letters\n",
    "    words = AA.split(\"w\") # string.split(break) will make a list, with each entry of the list being a word\n",
    "    for word in words: # loop over all words, per iteration you get one word\n",
    "        letters = word.split(\"l\") # split all letters within one word\n",
    "        for letter in letters: # for one letter \n",
    "            try: message+=(REVERSED_MORSE_CODE_DICT[letter])\n",
    "            except: message+='?'\n",
    "        message+=' '\n",
    "    return(message)\n",
    "#print(decodeMessage(AA))"
   ]
  },
  {
   "cell_type": "code",
   "execution_count": null,
   "metadata": {},
   "outputs": [],
   "source": [
    "k%python\n",
    "binar3[49]=1\n",
    "BB=timesignal2message(binar3)\n",
    "print(decodeMessage_adapt(BB))"
   ]
  },
  {
   "cell_type": "markdown",
   "metadata": {},
   "source": [
    "## IMPLEMENT & INVESTIGATE 1: find the optimal position for the photodiode\n",
    "\n",
    "> <font color='grey'>⏳ Estimated time: 30 min</font>\n",
    "\n",
    "### I&I1a. build the photodiode circuit\n",
    "\n",
    "For receiving the signal, you do need to build a small circuit which consist of:\n",
    "\n",
    "- a photodiode, \n",
    "- resistors \n",
    "- and an opamp type TL072 (you can see the name on top of the opamp.  *(The theory on such operational amplifier will be given in octal 3)*\n",
    "\n",
    "At this point the circuit is given, for you to use it. \n",
    "\n",
    "- Use a small (black) breadboard to build the circuit. \n",
    "\n",
    "<img src=\"https://gitlab.tudelft.nl/mwdocter/nb2214-images/-/raw/main/PicoPI/7C_photodiode.jpg\" width=70%></img>\n",
    "\n",
    "Since the opamp is probably new to you, and the pins are close and difficult to read, \n",
    "just below you can find a zoomed in version of the opamp circuit on the smaller breadboard to help you install it correctly:\n",
    "\n",
    "<img src=\"https://gitlab.tudelft.nl/mwdocter/nb2214-images/-/raw/main/PicoPI/7C photodiode zoom in.jpg\" width=50%></img>\n",
    "\n",
    "<img src=\"https://gitlab.tudelft.nl/mwdocter/nb2214-images/-/raw/7b873596c01a500f66c42c89508ee5aa384b6335/voltammetry/opamp_dual_layout+component.jpg\" width=50%></img>\n",
    "\n",
    "Please note that:\n",
    "* the photodiode has a long and short pin. The long one goes to -12V, the short one to opamp-pin 2 (the inverting input)\n",
    "* the 220k resistor goes between opamp-pin1&2 (inverting input and output)\n",
    "* the 220 $\\Omega$ resistor is in between opamp-pin1 and AMP0-signal+\n",
    "* the non-inverting input goes to ground. \n",
    "* the -12V and +12 V input are connected to the supply pins below the breadboard. \n",
    "\n"
   ]
  },
  {
   "cell_type": "markdown",
   "metadata": {},
   "source": [
    "### I&I1b. run the code, and optimize photodiode alignment\n",
    "The code below is to allow you to position your receiving photodiode circuit optimally with respect to the LED on the Alpaca+picopi. Try it as many times as you want, until you receive a high enough output (to be able to distinguish a high and low signal).\n",
    "\n",
    "You might need to shield the photodiode + led from the ambient light as otherwise its light might not be strong enough to be detected"
   ]
  },
  {
   "cell_type": "code",
   "execution_count": null,
   "metadata": {},
   "outputs": [],
   "source": [
    "%serialconnect to --port=\"COM3\" \n",
    "%plot --mode live\n",
    "# first code: rough switching on-off. \n",
    "# Can be used to check whether the positioning of the photodiode on top of the led is correct\n",
    "\n",
    "import time\n",
    "import numpy as np\n",
    "import matplotlib.pyplot as plt\n",
    "NN=0 # later on use to give images an incrementing name\n",
    "\n",
    "from machine import ADC, Pin # type: ignore\n",
    "from functiongenerator import FuncGen, DC, Sine # type: ignore\n",
    "\n",
    "# Instantiate a measurement pin Ain0 for the output signal\n",
    "adc0 = ADC(26) \n",
    "\n",
    "led = Pin(25, Pin.OUT)\n",
    "\n",
    "NUM_SAMPLES = 400\n",
    "DELAY_MS = 100\n",
    "\n",
    "output_signal = np.zeros(NUM_SAMPLES)\n",
    "\n",
    "onoff=0\n",
    "on_off=np.zeros(NUM_SAMPLES)\n",
    "led.value(onoff) # move photodiode over de led to see whether the signal is high enough\n",
    "for ii in range(NUM_SAMPLES):\n",
    "        # Take a sample ever 20 ms (e.g. at 50 Hz)\n",
    "        sample = adc0.read_u16()\n",
    "        output_signal[ii] = sample\n",
    "        \n",
    "        if (ii % 5) == 0:\n",
    "            # Plot 1 in 5 samples to the live plotter (e.g. with a frequency of 10 Hz)\n",
    "            plt.liveplot(sample*5.035E-4, labels = ['Output [V]'])\n",
    "                \n",
    "        time.sleep_ms(DELAY_MS)\n",
    "        if (ii%50)==0:\n",
    "            onoff=not(onoff)\n",
    "            led.value(onoff)\n",
    "        on_off[ii]=int(onoff)\n",
    "print('Acquisiton done!')\n",
    "led.value(0)"
   ]
  },
  {
   "cell_type": "markdown",
   "metadata": {},
   "source": [
    "## IMPLEMENT & INVESTIGATE 2: find the optimal position for the photodiode\n",
    "\n",
    "You are given the binary array 'mesbin', which you send out and receive at the same time with the code below. Run it, and discover which message was send to you. "
   ]
  },
  {
   "cell_type": "code",
   "execution_count": null,
   "metadata": {},
   "outputs": [],
   "source": [
    "# initializing mesbin\n",
    "import numpy as np\n",
    "\n",
    "mesbin= np.array([0,1,0,1,0,1,0,1,0,0,0,1,0,1,1,1,0,0,0,0,0,0,0,1,0,1,0,1,0,1,0,0,0,1,0,1,1,1,0,0,0,0,0,0,0,1,1,1,0,0,0,1,0,1,0,1,0,1,0,0,0,1,0,1,0,0,0,1,0,1,0,1,0,0,0,0,0,0,0 ,1 ,0 ,1 ,0 ,1 ,0 ,0 ,0 ,1 ,0 ,1, 0, 1, 0, 1, 0, 0 ,0 ,1, 1, 1, 0, 1, 1, 1, 0, 1, 1, 1, 0, 0, 0, 1, 0, 1, 0, 1, 1, 1, 0, 0, 0, 1, 0, 1, 1, 1, 0, 1, 0, 1, 0, 0, 0, 1, 1, 1, 0, 1, 0, 1, 0, 0 ,0 ,0 ,0 ,0 ,0 ,1 ,0 ,1 ,1 ,1, 0, 1, 1, 1, 0, 0 ,0 ,1 ,1, 1, 0 ,1 ,1 ,1 ,0 ,1 ,1 ,1 ,0, 0 ,0 ,1, 0, 1 ,1 ,1 ,0 ,1 ,0 ,0 ,0 ,1, 1, 1, 0, 1, 0, 1, 1, 1, 0])"
   ]
  },
  {
   "cell_type": "code",
   "execution_count": null,
   "metadata": {},
   "outputs": [],
   "source": [
    "%python #we need to have it in python as well, to later on compare to the measured signal\n",
    "mesbin= np.array([0,1,0,1,0,1,0,1,0,0,0,1,0,1,1,1,0,0,0,0,0,0,0,1,0,1,0,1,0,1,0,0,0,1,0,1,1,1,0,0,0,0,0,0,0,1,1,1,0,0,0,1,0,1,0,1,0,1,0,0,0,1,0,1,0,0,0,1,0,1,0,1,0,0,0,0,0,0,0 ,1 ,0 ,1 ,0 ,1 ,0 ,0 ,0 ,1 ,0 ,1, 0, 1, 0, 1, 0, 0 ,0 ,1, 1, 1, 0, 1, 1, 1, 0, 1, 1, 1, 0, 0, 0, 1, 0, 1, 0, 1, 1, 1, 0, 0, 0, 1, 0, 1, 1, 1, 0, 1, 0, 1, 0, 0, 0, 1, 1, 1, 0, 1, 0, 1, 0, 0 ,0 ,0 ,0 ,0 ,0 ,1 ,0 ,1 ,1 ,1, 0, 1, 1, 1, 0, 0 ,0 ,1 ,1, 1, 0 ,1 ,1 ,1 ,0 ,1 ,1 ,1 ,0, 0 ,0 ,1, 0, 1 ,1 ,1 ,0 ,1 ,0 ,0 ,0 ,1, 1, 1, 0, 1, 0, 1, 1, 1, 0])"
   ]
  },
  {
   "cell_type": "markdown",
   "metadata": {},
   "source": [
    "### I&I2a. Run the code; SEND 'mesbin' via LED and RECEIVE signal via a photodiode\n",
    "\n",
    "Run it, and discover which message was sent to you. "
   ]
  },
  {
   "cell_type": "code",
   "execution_count": null,
   "metadata": {},
   "outputs": [],
   "source": [
    "%serialconnect to --port=\"COM3\" \n",
    "%plot --mode live\n",
    "# second code: send+receive morse code \n",
    "# Can be used to check whether the signal is good enough to read in the code\n",
    "\n",
    "import time\n",
    "import numpy as np\n",
    "import matplotlib.pyplot as plt\n",
    "from machine import ADC # type: ignore\n",
    "from functiongenerator import FuncGen, DC, Sine # type: ignore\n",
    "\n",
    "NN=0 # later on use to give images an incrementing name\n",
    "\n",
    "\n",
    "# Instantiate a measurement pin Ain0 for the output signal. ADC(26) means that the signal is read from pin 26.\n",
    "adc0 = ADC(26) \n",
    "\n",
    "# Instantiate a pin for the LED, Pin take the number of the pin, Pin.OUT means it is an output pin.\n",
    "led = Pin(25, Pin.OUT)\n",
    "\n",
    "# Define the number of samples to take, the delay between samples \n",
    "NUM_SAMPLES = 400\n",
    "DELAY_MS = 100\n",
    "\n",
    "# Create an array to store the output signal\n",
    "output_signal = np.zeros(len(mesbin))\n",
    "\n",
    "# Create I/O and plot data\n",
    "for ii in range(len(mesbin)):\n",
    "    \n",
    "        # Take a sample ever 20 ms (e.g. at 50 Hz)\n",
    "        led.value(mesbin[ii])\n",
    "        sample = adc0.read_u16()\n",
    "        output_signal[ii] = sample\n",
    "#         if (ii % 5) == 0:\n",
    "#             # Plot 1 in 5 samples to the live plotter (e.g. with a frequency of 10 Hz)\n",
    "#             plt.liveplot(sample*5.035E-4, labels = ['Output [V]'])                \n",
    "        time.sleep_ms(DELAY_MS)\n",
    "print('Acquisiton done!')\n",
    "\n",
    "# Turn off the LED\n",
    "led.value(0)\n"
   ]
  },
  {
   "cell_type": "code",
   "execution_count": null,
   "metadata": {},
   "outputs": [],
   "source": [
    "plt.plot(output_signal)"
   ]
  },
  {
   "cell_type": "markdown",
   "metadata": {},
   "source": [
    "### I&I2b. transfer the signal from alpaca_kernel to python3 kernel\n",
    "Because the analysis is running in the %python cells, we need to transfer between the ALPACA kernel and the python3 kernel. In order to do so, run the code below. "
   ]
  },
  {
   "cell_type": "code",
   "execution_count": null,
   "metadata": {},
   "outputs": [],
   "source": [
    "#threshold first, then copy the signal from below and paste it back into 7C1 to further analyze\n",
    "thresh=np.median(output_signal) #you can try np.mean instead is your signal is very noisy\n",
    "BB=(output_signal>thresh)*1\n",
    "\n",
    "plt.plot(BB)\n",
    "string='signal=['\n",
    "for ii in range(len(BB)):\n",
    "    string+=str(BB[ii])\n",
    "    string+=','\n",
    "string+=']'\n",
    "print(string)"
   ]
  },
  {
   "cell_type": "markdown",
   "metadata": {},
   "source": [
    "### I&I2c. Check whether the signal has been correctly received\n",
    "Copy&paste the output of the previous cell: `signal=...`, \n",
    "like it is done below for `signal_teacher` (which is real binarized data, for which the background light might have been too much)"
   ]
  },
  {
   "cell_type": "code",
   "execution_count": null,
   "metadata": {},
   "outputs": [],
   "source": [
    "%python\n",
    "### TO DO='paste here your signal found in the alpaca kernel\"\n",
    "\n",
    "signal_teacher=[0,1,0,1,0,1,0,1,0,0,0,1,0,1,1,1,0,0,0,0,0,0,0,1,0,1,0,1,0,1,0,0,0,1,0,1,1,1,0,0,0,0,0,0,0,1,1,1,1,0,0,1,0,1,0,1,0,1,0,0,0,1,0,1,0,0,0,1,0,1,0,1,0,1,0,0,0,0,1,1,0,1,0,1,0,0,0,1,0,1,0,1,0,1,0,0,0,1,1,1,0,1,1,1,1,1,1,1,1,0,0,1,0,1,0,1,1,1,0,0,0,1,0,1,1,1,0,1,0,1,0,0,0,1,1,1,0,1,0,1,0,0,0,0,0,1,0,1,0,1,1,1,0,1,1,1,0,0,0,1,1,1,0,1,1,1,0,1,1,1,0,0,0,1,1,1,1,1,0,1,0,0,0,1,1,1,0,1,0,1,1,1,0,]\n",
    "\n",
    "#signal_teacher is far from perfect, found at an early test of the code\n"
   ]
  },
  {
   "cell_type": "markdown",
   "metadata": {},
   "source": [
    "convert both `mesbin` and the found `signal`, and read whether the acquisition and coding/decoding went well."
   ]
  },
  {
   "cell_type": "code",
   "execution_count": null,
   "metadata": {},
   "outputs": [],
   "source": [
    "%python\n",
    "print(decodeMessage_adapt(timesignal2message(mesbin)))\n",
    "print(decodeMessage_adapt(timesignal2message(signal)))\n",
    "\n"
   ]
  },
  {
   "cell_type": "markdown",
   "metadata": {},
   "source": [
    "## <font color='red'> Optional I&I3: use the code below, to receive a secret(?) message send out by your team member (using 6B code) </font>"
   ]
  },
  {
   "cell_type": "code",
   "execution_count": null,
   "metadata": {},
   "outputs": [],
   "source": [
    "%serialconnect to --port=\"COM3\" \n",
    "%plot --mode live\n",
    "# second code: send+receive morse code \n",
    "# Can be used to check whether the signal is good enough to read in the code\n",
    "\n",
    "import time\n",
    "import numpy as np\n",
    "import matplotlib.pyplot as plt\n",
    "NN=0 # later on use to give images an incrementing name\n",
    "\n",
    "from machine import ADC # type: ignore\n",
    "from functiongenerator import FuncGen, DC, Sine # type: ignore\n",
    "\n",
    "# Instantiate a measurement pin Ain0 for the output signal\n",
    "adc0 = ADC(26) \n",
    "\n",
    "NUM_SAMPLES = 400\n",
    "DELAY_MS = 100\n",
    "\n",
    "output_signal = np.zeros(len(mesbin))\n",
    "for ii in range(len(mesbin)):\n",
    "    \n",
    "        # Take a sample ever 20 ms (e.g. at 50 Hz)\n",
    "        sample = adc0.read_u16()\n",
    "        output_signal[ii] = sample\n",
    "      \n",
    "        time.sleep_ms(DELAY_MS)\n",
    "        \n",
    "print('Acquisiton done!')\n",
    "\n",
    "#threshold first, then run the rest of the code copy the signal and paste it back into 7C1\n",
    "thresh=np.median(output_signal)\n",
    "BB=(output_signal>thresh)*1\n",
    "\n",
    "plt.plot(BB)\n",
    "string='signal=['\n",
    "for ii in range(len(BB)):\n",
    "    string+=str(BB[ii])\n",
    "    string+=','\n",
    "string+=']'\n",
    "print(string)\n"
   ]
  },
  {
   "cell_type": "code",
   "execution_count": null,
   "metadata": {},
   "outputs": [],
   "source": [
    "%python\n",
    "### TO DO=\"signal= copy paste your found value here\" \n",
    "\n",
    "print(decodeMessage_adapt(timesignal2message(signal)))"
   ]
  },
  {
   "cell_type": "markdown",
   "metadata": {},
   "source": [
    "## EXPLAIN & EVALUATE\n",
    "> <font color='grey'>⏳ Estimated time: 10  min</font>\n",
    "\n",
    "* Wait till all (4) group members finish their observation\n",
    "* Compare your results with your other group members. \n",
    "* If your results agree, and are in line with all predictions, then talk to a TA and get checked off\n",
    "* Otherwise, so if your results do not agree, or your results are not in line with your predictions, then first discuss amongst your group before getting a TA. \n",
    "\n",
    "\n",
    "Reflect on how accurately you could measure the send out morse message in light. \n",
    "- how stably did you position the receiving photo diode opposite of the led?\n",
    "- how did you shield the photodiode from light outside the LED\n",
    "- if the received message is not the same as send out, try to optimize further with the above reflecting questions in mind. \n",
    "\n",
    "**to be checked by the TA**: \n",
    "1. Discuss the (possible) difference between send out and received signal, and its causes\n",
    "2. exit card: \n",
    "    1. Write a brief abstract on what you learned (conclusion, useful graph), \n",
    "    2. Which troubleshooting skills do you want to remember for next sessions, \n",
    "    3. Which code do you copy for use in next sessions,\n",
    "3. How do you think this notebook could be improved"
   ]
  },
  {
   "cell_type": "code",
   "execution_count": null,
   "metadata": {},
   "outputs": [],
   "source": [
    "#7C receive Morse\n",
    "### TO DO=\"1. discuss the difference between send out and received signal, include do/don'ts\"\n",
    "\n",
    "### TO DO=\"2a. abstract\"\n",
    "\n",
    "### TO DO=\"2b. troubleshooting\"\n",
    "\n",
    "### TO DO=\"2c. code\"\n",
    "\n",
    "### TO DO=\"3. what changes would you suggest?\"\n"
   ]
  },
  {
   "cell_type": "code",
   "execution_count": null,
   "metadata": {},
   "outputs": [],
   "source": [
    "# no recording, an example recorded signal is already given as signal_teacher. \n",
    "# compare this with the input signal, and you'll see what kind of signal is possible\n"
   ]
  },
  {
   "cell_type": "code",
   "execution_count": null,
   "metadata": {},
   "outputs": [],
   "source": []
  }
 ],
 "metadata": {
  "celltoolbar": "Create Assignment",
  "kernelspec": {
   "display_name": "Alpaca Kernel",
   "language": "python",
   "name": "alpaca"
  },
  "language_info": {
   "codemirror_mode": {
    "name": "ipython",
    "version": 3
   },
   "file_extension": ".py",
   "mimetype": "text/x-python",
   "name": "python",
   "nbconvert_exporter": "python",
   "pygments_lexer": "ipython3",
   "version": "3.10.14"
  },
  "toc": {
   "base_numbering": 1,
   "nav_menu": {},
   "number_sections": true,
   "sideBar": true,
   "skip_h1_title": false,
   "title_cell": "Table of Contents",
   "title_sidebar": "Contents",
   "toc_cell": false,
   "toc_position": {},
   "toc_section_display": true,
   "toc_window_display": false
  }
 },
 "nbformat": 4,
 "nbformat_minor": 4
}
